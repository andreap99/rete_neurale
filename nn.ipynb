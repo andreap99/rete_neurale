{
 "cells": [
  {
   "cell_type": "markdown",
   "id": "9d5d2d4f",
   "metadata": {},
   "source": [
    "# Imports"
   ]
  },
  {
   "cell_type": "code",
   "execution_count": 1,
   "id": "4c7ccc57",
   "metadata": {},
   "outputs": [],
   "source": [
    "import numpy as np\n",
    "import pandas as pd\n",
    "import sklearn\n",
    "import joblib\n",
    "from sklearn.preprocessing import StandardScaler, MinMaxScaler, normalize\n",
    "from sklearn.model_selection import train_test_split, GridSearchCV\n",
    "from sklearn.ensemble import RandomForestRegressor\n",
    "from sklearn.metrics import mean_squared_error, mean_absolute_error, r2_score\n",
    "import matplotlib.pyplot as plt\n",
    "from matplotlib.ticker import MaxNLocator\n",
    "from tqdm import tqdm\n",
    "import os\n",
    "import sys\n",
    "import tensorflow as tf\n",
    "import pathlib\n",
    "from pathlib import Path\n",
    "\n",
    "from utils_gianluca_copy import *\n",
    "from utils_torch import *"
   ]
  },
  {
   "cell_type": "code",
   "execution_count": 2,
   "id": "46d42c3d",
   "metadata": {},
   "outputs": [],
   "source": [
    "def r2(y_pred,y_test):\n",
    "    return r2_score(y_test, y_pred)\n",
    "\n",
    "def mae(y_pred,y_test):\n",
    "    return mean_absolute_error(y_test, y_pred)\n",
    "\n",
    "def mse(y_pred,y_test):\n",
    "    return mean_squared_error(y_test, y_pred)\n",
    "\n",
    "def rmse(y_pred,y_test):\n",
    "    return np.sqrt(mean_squared_error(y_test, y_pred))"
   ]
  },
  {
   "cell_type": "markdown",
   "id": "d2d6f730",
   "metadata": {},
   "source": [
    "# Simulated data"
   ]
  },
  {
   "cell_type": "markdown",
   "id": "e4519935",
   "metadata": {},
   "source": [
    "## Load dataset"
   ]
  },
  {
   "cell_type": "code",
   "execution_count": 3,
   "id": "5bb15ec0",
   "metadata": {},
   "outputs": [],
   "source": [
    "# read the simulated dataset.\n",
    "#path = Path(os.getcwd()).parent.__str__()\n",
    "ds = pd.read_parquet('Dataset_Gianluca/ds_sim.parquet')"
   ]
  },
  {
   "cell_type": "code",
   "execution_count": 4,
   "id": "c2345f7c",
   "metadata": {},
   "outputs": [
    {
     "name": "stdout",
     "output_type": "stream",
     "text": [
      "3000 300.0\n"
     ]
    }
   ],
   "source": [
    "CASE = \"_3000\" # _10, _100, _1000, _3000\n",
    "case = int(CASE.split(\"_\")[-1])\n",
    "length = case/10\n",
    "print(case, length)"
   ]
  },
  {
   "cell_type": "code",
   "execution_count": 10,
   "id": "a3339511",
   "metadata": {
    "scrolled": false
   },
   "outputs": [
    {
     "name": "stderr",
     "output_type": "stream",
     "text": [
      "100%|██████████| 189/189 [00:26<00:00,  7.10it/s]"
     ]
    },
    {
     "name": "stdout",
     "output_type": "stream",
     "text": [
      "Extracted time windows: 9013\n"
     ]
    },
    {
     "name": "stderr",
     "output_type": "stream",
     "text": [
      "\n"
     ]
    }
   ],
   "source": [
    "OVERWRITE = False\n",
    "\n",
    "# Chop each multivariate time series, associated to each couple (drive cycle, soh), to shorter time windows\n",
    "# X_idxs: a Nx2 matrix, whose i-th row is the start and end index of the i-th time window of the new tw dataset in the original dataset\n",
    "# y: soh for each extracted time window\n",
    "#X_idxs, y = extract_time_windows(ds, length=int(length), freq=10, random_starting_point=False, verbose=True, random_state=42, overwrite=OVERWRITE, suffix=CASE)\n",
    "X_idxs, y = extract_time_windows(ds, length=int(length), freq=10, random_starting_point=False, verbose=True, random_state=42, overwrite=OVERWRITE, suffix=CASE)\n",
    "print(f'Extracted time windows: {len(y)}')"
   ]
  },
  {
   "cell_type": "code",
   "execution_count": null,
   "id": "9fc7db56",
   "metadata": {},
   "outputs": [],
   "source": [
    "ds.iloc[X_idxs[10][0]:X_idxs[10][1]]"
   ]
  },
  {
   "cell_type": "code",
   "execution_count": null,
   "id": "06628e4a",
   "metadata": {},
   "outputs": [],
   "source": [
    "idx_train, idx_test, y_train, y_test = train_test_split(np.arange(len(y)), y, test_size=0.2, stratify=y, random_state=42)\n",
    "X_idxs_train, X_idxs_test = X_idxs[idx_train], X_idxs[idx_test]"
   ]
  },
  {
   "cell_type": "code",
   "execution_count": null,
   "id": "547cc2dc",
   "metadata": {},
   "outputs": [],
   "source": [
    "# Display example of extracted windows\n",
    "ds.iloc[X_idxs_train[10][0]:X_idxs_train[10][1]][[\"Timestamp\", \"Voltage\",\"Current\", \"SOC\", \"Temperature\"]]\n",
    "#ds.iloc[X_idxs_train[10][0]:X_idxs_train[10][1]][[\"Voltage\",\"Current\", \"SOC\", \"Temperature\"]].values\n",
    "#ds.iloc[X_idxs_train[10][0]:X_idxs_train[10][1]][[\"Voltage\",\"Current\", \"SOC\", \"Temperature\"]].values.shape\n",
    "#y_train[10]"
   ]
  },
  {
   "cell_type": "code",
   "execution_count": null,
   "id": "d992ea82",
   "metadata": {},
   "outputs": [],
   "source": [
    "# Fit a StandardScaler object on the training set and then standardize the whole dataset with the found per-predictor mean and std; keep only V, I, SOC\n",
    "X_idxs_train_concatenated = np.concatenate([np.arange(start,end) for start,end in X_idxs_train])\n",
    "scaler = StandardScaler()\n",
    "scaler.fit(ds[['Voltage','Current','SOC', 'Temperature']].iloc[X_idxs_train_concatenated])\n",
    "ds_preproc = pd.DataFrame(scaler.transform(ds[['Voltage','Current','SOC', 'Temperature']]), \\\n",
    "                          index=ds.index, columns=['Voltage','Current','SOC', 'Temperature'])"
   ]
  },
  {
   "cell_type": "code",
   "execution_count": null,
   "id": "bb02f0f1",
   "metadata": {},
   "outputs": [],
   "source": [
    "ds_preproc"
   ]
  },
  {
   "cell_type": "code",
   "execution_count": null,
   "id": "41f1bea6",
   "metadata": {},
   "outputs": [],
   "source": [
    "# Popolate training set.\n",
    "X_train = np.zeros((len(X_idxs_train), case, 4))\n",
    "Y_train = np.zeros((len(X_idxs_train), 1))\n",
    "\n",
    "for i, idx in enumerate(X_idxs_train):\n",
    "    X_train[i,:,:] = ds_preproc.iloc[idx[0]:idx[1]][[\"Voltage\",\"Current\", \"SOC\", \"Temperature\"]].values\n",
    "    Y_train[i] = y_train[i]\n",
    "    \n",
    "#np.save(f\"X_train{CASE}.npy\", X_train)\n",
    "#np.save(f\"Y_train{CASE}.npy\", Y_train)"
   ]
  },
  {
   "cell_type": "code",
   "execution_count": null,
   "id": "8ab923eb",
   "metadata": {},
   "outputs": [],
   "source": [
    "# Popolate test set.\n",
    "X_test = np.zeros((len(X_idxs_test), case, 4))\n",
    "Y_test = np.zeros((len(X_idxs_test), 1))\n",
    "\n",
    "for i, idx in enumerate(X_idxs_test):\n",
    "    X_test[i,:,:] = ds_preproc.iloc[idx[0]:idx[1]][[\"Voltage\",\"Current\", \"SOC\", \"Temperature\"]].values\n",
    "    Y_test[i] = y_test[i]\n",
    "    \n",
    "#np.save(f\"X_test{CASE}.npy\", X_test)\n",
    "#np.save(f\"Y_test{CASE}.npy\", Y_test)"
   ]
  },
  {
   "cell_type": "code",
   "execution_count": null,
   "id": "21fdc973",
   "metadata": {},
   "outputs": [],
   "source": [
    "# ... or load npy files.\n",
    "X_train = np.load(f\"X_train{CASE}.npy\")\n",
    "Y_train = np.load(f\"Y_train{CASE}.npy\")\n",
    "X_test = np.load(f\"X_test{CASE}.npy\")\n",
    "Y_test = np.load(f\"Y_test{CASE}.npy\")"
   ]
  },
  {
   "cell_type": "markdown",
   "id": "1e935e75",
   "metadata": {},
   "source": [
    "## Training basic models."
   ]
  },
  {
   "cell_type": "markdown",
   "id": "7ee05e68",
   "metadata": {},
   "source": [
    "### NN"
   ]
  },
  {
   "cell_type": "code",
   "execution_count": null,
   "id": "efbd9be2",
   "metadata": {},
   "outputs": [],
   "source": [
    "batch_size = 256\n",
    "epochs = 400\n",
    "patience = 50\n",
    "\n",
    "inputs = tf.keras.layers.Input((int(case),4))\n",
    "x = tf.keras.layers.Flatten()(inputs)\n",
    "#x = tf.keras.layers.Conv1D(32, 3, activation='relu', input_shape=[int(case),4])(x)\n",
    "#x = tf.keras.layers.Dense(128, activation=\"relu\")(x)\n",
    "x = tf.keras.layers.Dense(64, activation=\"relu\")(x)\n",
    "x = tf.keras.layers.Dense(32, activation=\"relu\")(x)\n",
    "x = tf.keras.layers.Dropout(0.2)(x)\n",
    "outputs = tf.keras.layers.Dense(1, activation='sigmoid')(x)\n",
    "\n",
    "model = tf.keras.Model(inputs=[inputs], outputs=outputs)\n",
    "model.compile(optimizer='adam', loss='mean_squared_error')\n",
    "\n",
    "tmp_folder_path = os.sep.join([os.getcwd(), \"weights\", CASE.split(\"_\")[-1]])\n",
    "Path(pathlib.PureWindowsPath(tmp_folder_path).as_posix()).mkdir(parents=True, exist_ok=True)\n",
    "\n",
    "early_stopping = tf.keras.callbacks.EarlyStopping(monitor='val_loss', \n",
    "                                                  patience=patience, \n",
    "                                                  restore_best_weights=True)\n",
    "\n",
    "checkpoint = tf.keras.callbacks.ModelCheckpoint(filepath=os.sep.join([os.getcwd(), \"weights\", \\\n",
    "                                                                      CASE.split(\"_\")[-1], \"NN_weights.h5\"]), \n",
    "                                                save_best_only=True,\n",
    "                                                monitor='val_loss',\n",
    "                                                mode='min',\n",
    "                                                save_weights_only=True)\n",
    "\n",
    "model.fit(X_train, Y_train,\n",
    "          validation_data=(X_test, Y_test),\n",
    "          batch_size=batch_size,\n",
    "          epochs=epochs,\n",
    "          callbacks=[early_stopping, checkpoint])\n"
   ]
  },
  {
   "cell_type": "code",
   "execution_count": null,
   "id": "d5adb58c",
   "metadata": {},
   "outputs": [],
   "source": [
    "preds = model.predict(X_test)\n",
    "accuracy = np.equal(Y_test, np.around(preds,2)).sum() / Y_test.shape[0]\n",
    "preds[:10]"
   ]
  },
  {
   "cell_type": "code",
   "execution_count": null,
   "id": "c85e08c5",
   "metadata": {},
   "outputs": [],
   "source": [
    "dict = model.evaluate(X_test, Y_test)\n",
    "#model.history.history['loss']\n",
    "dict"
   ]
  },
  {
   "cell_type": "code",
   "execution_count": null,
   "id": "a2b8e71b",
   "metadata": {},
   "outputs": [],
   "source": [
    "out=open('risultati.txt', 'a')\n",
    "\n",
    "out.write(f'\\nBatch size:{batch_size}\\t\\tEpochs: {epochs}\\t\\tPatience: {patience}\\n')\n",
    "# lista_di_metriche = [f'{key}:{value}\\n' for key, value in model.get_metrics_result().items()]\n",
    "# for l in lista_di_metriche:\n",
    "#     out.write(l)\n",
    "out.write(f'Accuracy: {accuracy}\\n')\n",
    "out.write(f\"RMSE: {rmse(preds,Y_test)}\\n\")\n",
    "out.write(f\"MAE {mae( preds,Y_test)}\\n\")\n",
    "out.write(f\"MSE: {mse( preds,Y_test)}\\n\")\n",
    "out.write(f\"R2: {r2(preds,Y_test)}\\n\")\n",
    "\n",
    "#results = pd.DataFrame([y_test,preds]).T.rename(columns={0:'Real',1:'Predicted'})\n",
    "#out.write(results.to_string())\n",
    "out.write('\\n--------------------------------------------------------------\\n')"
   ]
  },
  {
   "cell_type": "code",
   "execution_count": null,
   "id": "250efa84",
   "metadata": {},
   "outputs": [],
   "source": [
    "tf.keras.backend.clear_session()"
   ]
  },
  {
   "cell_type": "markdown",
   "id": "eb1c138e",
   "metadata": {},
   "source": [
    "### Random forest"
   ]
  },
  {
   "cell_type": "code",
   "execution_count": null,
   "id": "04012a75",
   "metadata": {},
   "outputs": [],
   "source": [
    "nsamples, nx, ny = X_train.shape\n",
    "d2_train_dataset = X_train.reshape((nsamples,nx*ny))\n",
    "y_train = Y_train.ravel()\n",
    "nsamples, nx, ny = X_test.shape\n",
    "d2_test_dataset = X_test.reshape((nsamples,nx*ny))\n",
    "y_test = Y_test.ravel()"
   ]
  },
  {
   "cell_type": "code",
   "execution_count": null,
   "id": "b4fa6663",
   "metadata": {},
   "outputs": [],
   "source": [
    "rfr = RandomForestRegressor(n_estimators=100,\n",
    "                            max_depth=100,     # None, 5, 15, 30, 50, 100\n",
    "                            max_features=3,     # 2, 3\n",
    "                            bootstrap=True,     # True, False\n",
    "                            max_samples=0.75,    # 0.5, 0.625, 0.75, 0.875, 1 (None when bootstrap=False)\n",
    "                            random_state=42,\n",
    "                            n_jobs=-1,\n",
    "                            warm_start=False)\n",
    "\n",
    "rfr.fit(d2_train_dataset, y_train)"
   ]
  },
  {
   "cell_type": "code",
   "execution_count": null,
   "id": "33ed3d20",
   "metadata": {},
   "outputs": [],
   "source": [
    "# Save RF model.\n",
    "joblib.dump(rfr, os.sep.join([os.getcwd(), \"weights\", CASE.split(\"_\")[-1], \"RF_weights.joblib\"]))"
   ]
  },
  {
   "cell_type": "code",
   "execution_count": null,
   "id": "5f673927",
   "metadata": {},
   "outputs": [],
   "source": [
    "y_pred = rfr.predict(d2_test_dataset)"
   ]
  },
  {
   "cell_type": "code",
   "execution_count": null,
   "id": "42683152",
   "metadata": {},
   "outputs": [],
   "source": [
    "from scipy import stats"
   ]
  },
  {
   "cell_type": "code",
   "execution_count": null,
   "id": "2d2f630f",
   "metadata": {},
   "outputs": [],
   "source": [
    "results = pd.read_csv(os.sep.join([os.getcwd(), \"Risultati ML\", \"10\", \"Simulated\", \"ML\", \"RF\", \"predictions.csv\"]), index_col=[0])"
   ]
  },
  {
   "cell_type": "code",
   "execution_count": null,
   "id": "54452c19",
   "metadata": {},
   "outputs": [],
   "source": [
    "print(\"RMSE\",rmse(results[\"Real\"],results[\"Predicted\"])*100)\n",
    "print(\"MAE\", mae(results[\"Real\"],results[\"Predicted\"])*100)\n",
    "#print(\"MSE\", mse(results[\"Real\"],results[\"Predicted\"]))\n",
    "#print(f\"R2: {stats.linregress(results[\"Real\"], results[\"Predicted\"]).rvalue**2:.6f}\")\n",
    "print(\"R2\", r2(results[\"Real\"],results[\"Predicted\"]))"
   ]
  },
  {
   "cell_type": "code",
   "execution_count": null,
   "id": "1565ee4e",
   "metadata": {},
   "outputs": [],
   "source": [
    "results[\"Real\"].values"
   ]
  },
  {
   "cell_type": "code",
   "execution_count": null,
   "id": "c30eff75",
   "metadata": {},
   "outputs": [],
   "source": [
    "print(\"RMSE\",rmse(y_pred,y_test))\n",
    "print(\"MAE\", mae(y_pred,y_test))\n",
    "print(\"MSE\", mse(y_pred,y_test))\n",
    "print(\"R2\", r2(y_pred,y_test))\n",
    "\n",
    "results = pd.DataFrame([y_test,y_pred]).T.rename(columns={0:'Real',1:'Predicted'})\n",
    "results.to_csv(os.sep.join([os.getcwd(), \"Risultati ML\", CASE.split(\"_\")[-1], \"Simulated\", \"ML\", \"RF\", \"predictions.csv\"]))"
   ]
  },
  {
   "cell_type": "markdown",
   "id": "bf6ddbd6",
   "metadata": {},
   "source": [
    "## Real data"
   ]
  },
  {
   "cell_type": "code",
   "execution_count": null,
   "id": "3027c2d3",
   "metadata": {},
   "outputs": [],
   "source": [
    "# read the dataset\n",
    "#path = Path(os.getcwd()).parent.__str__()\n",
    "#ds_aviloo = pd.read_parquet(os.sep.join([path, 'ds_aviloo.parquet']))\n",
    "ds_aviloo = pd.read_parquet('Dataset_Gianluca/ds_aviloo.parquet')\n",
    "ds_aviloo_preproc = pd.DataFrame(scaler.transform(ds_aviloo[['Voltage','Current','SOC','Temperature']]), \\\n",
    "                                 index=ds_aviloo.index, columns=['Voltage','Current','SOC', 'Temperature'])"
   ]
  },
  {
   "cell_type": "code",
   "execution_count": null,
   "id": "ef4f8bf0",
   "metadata": {},
   "outputs": [],
   "source": [
    "ds_aviloo_preproc.shape"
   ]
  },
  {
   "cell_type": "code",
   "execution_count": null,
   "id": "10743252",
   "metadata": {},
   "outputs": [],
   "source": [
    "ds_aviloo_preproc"
   ]
  },
  {
   "cell_type": "code",
   "execution_count": null,
   "id": "2c0c3514",
   "metadata": {},
   "outputs": [],
   "source": [
    "OVERWRITE = True\n",
    "\n",
    "# Chop each multivariate time series, associated to each couple (drive cycle, soh), to shorter time windows\n",
    "# X_idxs: a Nx2 matrix, whose i-th row is the start and end index of the i-th time window of the new tw dataset in the original dataset\n",
    "# y: soh for each extracted time window\n",
    "X_idxs_aviloo, y_aviloo = extract_time_windows(ds_aviloo, length=int(length), freq=10, random_starting_point=False, verbose=True, random_state=42, overwrite=OVERWRITE, suffix='_aviloo'+CASE)\n",
    "print(f'Extracted time windows: {len(y_aviloo)}')"
   ]
  },
  {
   "cell_type": "code",
   "execution_count": null,
   "id": "185b0712",
   "metadata": {},
   "outputs": [],
   "source": [
    "# Remove time windows with NaN values (especially in Temperature).\n",
    "remove = []\n",
    "for i, idx in enumerate(X_idxs_aviloo):\n",
    "    if np.any(np.isnan(ds_aviloo_preproc.iloc[idx[0]:idx[1]][[\"Voltage\",\"Current\", \"SOC\", \"Temperature\"]].values)):\n",
    "        remove.append(i)\n",
    "        \n",
    "X_idxs_aviloo = np.delete(X_idxs_aviloo, remove, 0)\n",
    "y_aviloo = np.delete(y_aviloo, remove, 0)"
   ]
  },
  {
   "cell_type": "code",
   "execution_count": null,
   "id": "020bcbc3",
   "metadata": {},
   "outputs": [],
   "source": [
    "# Popolate real test set.\n",
    "\n",
    "X_test_aviloo = np.zeros((len(X_idxs_aviloo), int(case), 4))\n",
    "Y_test_aviloo = np.zeros((len(X_idxs_aviloo), 1))\n",
    "\n",
    "for i, idx in enumerate(X_idxs_aviloo):\n",
    "    X_test_aviloo[i,:,:] = ds_aviloo_preproc.iloc[idx[0]:idx[1]][[\"Voltage\",\"Current\", \"SOC\", \"Temperature\"]].values\n",
    "    Y_test_aviloo[i] = y_aviloo[i]\n",
    "\n",
    "np.save(f\"X_test_aviloo{CASE}.npy\", X_test_aviloo)\n",
    "np.save(f\"y_test_aviloo{CASE}.npy\", Y_test_aviloo)"
   ]
  },
  {
   "cell_type": "code",
   "execution_count": null,
   "id": "f51fa1b9",
   "metadata": {},
   "outputs": [],
   "source": [
    "ds_aviloo_preproc.iloc[X_idxs_aviloo[118346][0]:X_idxs_aviloo[118346][1]][[\"Voltage\",\"Current\", \"SOC\", \"Temperature\"]]"
   ]
  },
  {
   "cell_type": "code",
   "execution_count": null,
   "id": "a727e03c",
   "metadata": {},
   "outputs": [],
   "source": [
    "# ... or load Numpy arrays.\n",
    "X_test_aviloo = np.load(f\"X_test_aviloo_{CASE}.npy\")\n",
    "Y_test_aviloo = np.load(f\"y_test_aviloo_{CASE}.npy\")"
   ]
  },
  {
   "cell_type": "markdown",
   "id": "c9c45bb1",
   "metadata": {},
   "source": [
    "### Test real data on NN"
   ]
  },
  {
   "cell_type": "code",
   "execution_count": null,
   "id": "3aa8b4b0",
   "metadata": {},
   "outputs": [],
   "source": [
    "model.load_weights(os.sep.join([os.getcwd(), \"weights\", CASE.split(\"_\")[-1], \"NN_weights.h5\"]))\n",
    "preds_aviloo = model.predict(X_test_aviloo)"
   ]
  },
  {
   "cell_type": "code",
   "execution_count": null,
   "id": "32b3296d",
   "metadata": {},
   "outputs": [],
   "source": [
    "print(\"RMSE\",rmse(preds_aviloo,Y_test_aviloo))\n",
    "print(\"MAE\", mae(preds_aviloo,Y_test_aviloo))\n",
    "print(\"MSE\", mse(preds_aviloo,Y_test_aviloo))\n",
    "print(\"R2\", r2(preds_aviloo,Y_test_aviloo))\n",
    "\n",
    "results = pd.DataFrame([Y_test_aviloo.ravel(), preds_aviloo.ravel()]).T.rename(columns={0:'Real',1:'Predicted'})\n",
    "results.to_csv(os.sep.join([os.getcwd(), \"Risultati ML\", CASE.split(\"_\")[-1], \"Real\", \"ML\", \"NN\", \"predictions.csv\"]))"
   ]
  },
  {
   "cell_type": "markdown",
   "id": "8ead5f73",
   "metadata": {},
   "source": [
    "### Test real data on RF"
   ]
  },
  {
   "cell_type": "code",
   "execution_count": null,
   "id": "cf2d3d78",
   "metadata": {},
   "outputs": [],
   "source": [
    "nsamples, nx, ny = X_test_aviloo.shape\n",
    "d2_test_dataset_aviloo = X_test_aviloo.reshape((nsamples,nx*ny))\n",
    "y_test_aviloo = Y_test_aviloo.ravel()"
   ]
  },
  {
   "cell_type": "code",
   "execution_count": null,
   "id": "df43bb8f",
   "metadata": {},
   "outputs": [],
   "source": [
    "y_pred = rfr.predict(d2_test_dataset_aviloo)"
   ]
  },
  {
   "cell_type": "code",
   "execution_count": null,
   "id": "b7e59d98",
   "metadata": {},
   "outputs": [],
   "source": [
    "print(\"RMSE\",rmse(y_pred,y_test_aviloo))\n",
    "print(\"MAE\", mae(y_pred,y_test_aviloo))\n",
    "print(\"MSE\", mse(y_pred,y_test_aviloo))\n",
    "print(\"R2\", r2(y_pred,y_test_aviloo))\n",
    "\n",
    "results = pd.DataFrame([y_test_aviloo,y_pred]).T.rename(columns={0:'Real',1:'Predicted'})\n",
    "results.to_csv(os.sep.join([os.getcwd(), \"Risultati ML\", CASE.split(\"_\")[-1], \"Real\", \"ML\", \"RF\", \"predictions.csv\"]))"
   ]
  },
  {
   "cell_type": "markdown",
   "id": "83d3ffff",
   "metadata": {},
   "source": [
    "# Transfer learning"
   ]
  },
  {
   "cell_type": "code",
   "execution_count": null,
   "id": "f8945349",
   "metadata": {},
   "outputs": [],
   "source": [
    "idx_train_aviloo, idx_test_aviloo, y_train_aviloo, y_test_aviloo = train_test_split(np.arange(len(y_aviloo)), y_aviloo, \\\n",
    "                                                                                    test_size=0.7, stratify=y_aviloo, \\\n",
    "                                                                                    random_state=42)\n",
    "X_idxs_train_aviloo, X_idxs_test_aviloo = X_idxs_aviloo[idx_train_aviloo], X_idxs_aviloo[idx_test_aviloo]"
   ]
  },
  {
   "cell_type": "code",
   "execution_count": null,
   "id": "d90b33d1",
   "metadata": {},
   "outputs": [],
   "source": [
    "# Popolate training set.\n",
    "X_train_aviloo_TF = np.zeros((len(X_idxs_train_aviloo), int(case), 4))\n",
    "Y_train_aviloo_TF = np.zeros((len(X_idxs_train_aviloo), 1))\n",
    "\n",
    "for i, idx in enumerate(X_idxs_train_aviloo):\n",
    "    X_train_aviloo_TF[i,:,:] = ds_aviloo_preproc.iloc[idx[0]:idx[1]][[\"Voltage\",\"Current\", \"SOC\", \"Temperature\"]].values\n",
    "    Y_train_aviloo_TF[i] = y_train_aviloo[i]\n",
    "    \n",
    "np.save(f\"X_train_aviloo_TF{CASE}.npy\", X_train_aviloo_TF)\n",
    "np.save(f\"Y_train_aviloo_TF{CASE}.npy\", Y_train_aviloo_TF)"
   ]
  },
  {
   "cell_type": "code",
   "execution_count": null,
   "id": "3bed857a",
   "metadata": {},
   "outputs": [],
   "source": [
    "# Popolate test set.\n",
    "X_test_aviloo_TF = np.zeros((len(X_idxs_test_aviloo), int(case), 4))\n",
    "Y_test_aviloo_TF = np.zeros((len(X_idxs_test_aviloo), 1))\n",
    "\n",
    "for i, idx in enumerate(X_idxs_test_aviloo):\n",
    "    X_test_aviloo_TF[i,:,:] = ds_aviloo_preproc.iloc[idx[0]:idx[1]][[\"Voltage\",\"Current\", \"SOC\", \"Temperature\"]].values\n",
    "    Y_test_aviloo_TF[i] = y_test_aviloo[i]\n",
    "    \n",
    "np.save(f\"X_test{CASE}.npy\", X_test_aviloo_TF)\n",
    "np.save(f\"Y_test{CASE}.npy\", Y_test_aviloo_TF)"
   ]
  },
  {
   "cell_type": "code",
   "execution_count": null,
   "id": "e212105e",
   "metadata": {},
   "outputs": [],
   "source": [
    "Y_test_aviloo_TF.shape"
   ]
  },
  {
   "cell_type": "markdown",
   "id": "48f0b46d",
   "metadata": {},
   "source": [
    "## TF NN"
   ]
  },
  {
   "cell_type": "code",
   "execution_count": null,
   "id": "18fa0007",
   "metadata": {},
   "outputs": [],
   "source": [
    "batch_size = 256\n",
    "epochs = 1000\n",
    "patience = 100\n",
    "\n",
    "early_stopping = tf.keras.callbacks.EarlyStopping(monitor='val_loss', \n",
    "                                                  patience=patience, \n",
    "                                                  restore_best_weights=True)\n",
    "\n",
    "checkpoint = tf.keras.callbacks.ModelCheckpoint(filepath=os.sep.join([os.getcwd(), \"weights\", \\\n",
    "                                                                      CASE.split(\"_\")[-1], \"TF_NN_weights.h5\"]), \n",
    "                                                save_best_only=True,\n",
    "                                                monitor='val_loss',\n",
    "                                                mode='min',\n",
    "                                                save_weights_only=True)\n",
    "\n",
    "model.load_weights(os.sep.join([os.getcwd(), \"weights\", CASE.split(\"_\")[-1], \"NN_weights.h5\"]))\n",
    "\n",
    "model.fit(X_train_aviloo_TF, Y_train_aviloo_TF,\n",
    "          validation_data=(X_test_aviloo_TF, Y_test_aviloo_TF),\n",
    "          batch_size=batch_size,\n",
    "          epochs=epochs,\n",
    "          callbacks=[early_stopping, checkpoint])"
   ]
  },
  {
   "cell_type": "code",
   "execution_count": null,
   "id": "18be4711",
   "metadata": {},
   "outputs": [],
   "source": [
    "preds_TF_NN = model.predict(X_test_aviloo_TF)"
   ]
  },
  {
   "cell_type": "code",
   "execution_count": null,
   "id": "758dd6b1",
   "metadata": {},
   "outputs": [],
   "source": [
    "print(\"RMSE\",rmse(preds_TF_NN,Y_test_aviloo_TF))\n",
    "print(\"MAE\", mae(preds_TF_NN,Y_test_aviloo_TF))\n",
    "print(\"MSE\", mse(preds_TF_NN,Y_test_aviloo_TF))\n",
    "print(\"R2\", r2(preds_TF_NN,Y_test_aviloo_TF))\n",
    "\n",
    "results = pd.DataFrame([Y_test_aviloo_TF.ravel(), preds_TF_NN.ravel()]).T.rename(columns={0:'Real',1:'Predicted'})\n",
    "results.to_csv(os.sep.join([os.getcwd(), \"Risultati ML\", CASE.split(\"_\")[-1], \"Real\", \"TL\", \"NN\", \"predictions.csv\"]))"
   ]
  },
  {
   "cell_type": "markdown",
   "id": "6b6af331",
   "metadata": {},
   "source": [
    "## RF"
   ]
  },
  {
   "cell_type": "code",
   "execution_count": null,
   "id": "8b3fd57f",
   "metadata": {},
   "outputs": [],
   "source": [
    "rfr = joblib.load(os.sep.join([os.getcwd(), \"weights\", CASE.split(\"_\")[-1], \"RF_weights.joblib\"]))\n",
    "rfr.warm_start=True\n",
    "rfr.n_estimators+= 32\n",
    "print(rfr.n_estimators)"
   ]
  },
  {
   "cell_type": "code",
   "execution_count": null,
   "id": "b03e309c",
   "metadata": {},
   "outputs": [],
   "source": [
    "# Reshape RF dataset from 3D to 2D.\n",
    "nsamples, nx, ny = X_train_aviloo_TF.shape\n",
    "d2_train_dataset_tl = X_train_aviloo_TF.reshape((nsamples,nx*ny))\n",
    "y_train_tl = Y_train_aviloo_TF.ravel()\n",
    "nsamples, nx, ny = X_test_aviloo_TF.shape\n",
    "d2_test_dataset_tl = X_test_aviloo_TF.reshape((nsamples,nx*ny))\n",
    "y_test_tl = Y_test_aviloo_TF.ravel()"
   ]
  },
  {
   "cell_type": "code",
   "execution_count": null,
   "id": "dd9a6bfc",
   "metadata": {},
   "outputs": [],
   "source": [
    "rfr.fit(d2_train_dataset_tl, y_train_tl)"
   ]
  },
  {
   "cell_type": "code",
   "execution_count": null,
   "id": "0593579e",
   "metadata": {},
   "outputs": [],
   "source": [
    "preds_TF_RF = rfr.predict(d2_test_dataset_tl)"
   ]
  },
  {
   "cell_type": "code",
   "execution_count": null,
   "id": "918b0dd2",
   "metadata": {},
   "outputs": [],
   "source": [
    "print(\"RMSE\",rmse(preds_TF_RF, y_test_tl))\n",
    "print(\"MAE\", mae(preds_TF_RF, y_test_tl))\n",
    "print(\"MSE\", mse(preds_TF_RF, y_test_tl))\n",
    "print(\"R2\", r2(preds_TF_RF, y_test_tl))\n",
    "\n",
    "results = pd.DataFrame([y_test_tl, preds_TF_RF]).T.rename(columns={0:'Real',1:'Predicted'})\n",
    "results.to_csv(os.sep.join([os.getcwd(), \"Risultati ML\", CASE.split(\"_\")[-1], \"Real\", \"TL\", \"RF\", \"predictions.csv\"]))"
   ]
  },
  {
   "cell_type": "code",
   "execution_count": null,
   "id": "6aef0b10",
   "metadata": {},
   "outputs": [],
   "source": []
  }
 ],
 "metadata": {
  "kernelspec": {
   "display_name": "Python 3 (ipykernel)",
   "language": "python",
   "name": "python3"
  },
  "language_info": {
   "codemirror_mode": {
    "name": "ipython",
    "version": 3
   },
   "file_extension": ".py",
   "mimetype": "text/x-python",
   "name": "python",
   "nbconvert_exporter": "python",
   "pygments_lexer": "ipython3",
   "version": "3.10.4"
  }
 },
 "nbformat": 4,
 "nbformat_minor": 5
}
